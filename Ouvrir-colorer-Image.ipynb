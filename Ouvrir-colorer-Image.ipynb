{
 "cells": [
  {
   "cell_type": "markdown",
   "metadata": {
    "colab_type": "text",
    "id": "9Q4LxrChYso0"
   },
   "source": [
    "# __Traiter une image numérique à l'aide du langage de programmation Python (suite)__"
   ]
  },
  {
   "cell_type": "markdown",
   "metadata": {
    "colab_type": "text",
    "id": "cR_WtpqxYspV"
   },
   "source": [
    "## 5 - La bibliothèque PIL pour traiter les images ##\n",
    "\n",
    "> Fonction _open_ ; fonction _size_ ; fonction _getpixel_\n",
    "\n",
    "La fonction open du module Image est appelée par l'instruction \n",
    "\n",
    "__Image.open(\"nom du fichier\").__\n",
    "\n",
    "Elle permet d'ouvrir une image qui doit être enregistrée dans le même dossier que le programme python.\n",
    "Elle retourne une image qui devra être __stockée dans une variable__\n",
    "\n",
    "Quand une __variable__ qui stocke une image est suivie de __.size__, on applique la fonction size à l'image. Cette fonction renvoie 2 nombres qui sont la largeur et la hauteur de l'image en pixel. Ces deux nombres doivent être stockés dans deux variables.\n",
    "Quand une __variable__ qui stocke une image est suivie de __.show()__, l'image est affichée à l'écran\n",
    "\n",
    ">Travail à réaliser\n",
    "\n",
    "*Analyser le code ci-dessous, vous devez comprendre chacune des instructions. \n",
    "*Ouvrir l'image Mario.png avec le logiciel Paint, lire sa largeur et sa hauteur en pixels.\n",
    "*Prévoir le résultat du programme ci-dessous puis l'exécuter"
   ]
  },
  {
   "cell_type": "code",
   "execution_count": null,
   "metadata": {},
   "outputs": [],
   "source": [
    "#Pour traiter des images en python il faut importer le module Image de la bibliothèque PIL\n",
    "from PIL import Image\n",
    "#creation d'une variable appelée Monimage \n",
    "#dans laquelle sera stockée l'image nommée Mario.png\n",
    "#stockée dans le même dossier que ce programme\n",
    "Monimage = Image.open(\"Mario.png\")\n",
    "#creation de deux variables largeur et hauteur\n",
    "#dans lesquelles seront stockées la largeur et la hauteur en pixel de la variable Monimage\n",
    "largeur, hauteur = Monimage.size\n",
    "print(\"largeur de l'image :\", largeur, \"pixels\")\n",
    "print(\"hauteur de l'image :\", hauteur, \"pixels\")\n",
    "Monimage.show()\n"
   ]
  },
  {
   "cell_type": "markdown",
   "metadata": {},
   "source": [
    ">Travail à réaliser\n",
    "\n",
    "-Dans la cellule ci-dessous, copier-coller le code ci-dessus. \n",
    "\n",
    "-Modifier le code pour qu'il ouvre l'image dont le nom de fichier est graphiti et qu'il la stocke dans une variable appelée MonDessin \n",
    "\n",
    "-Modifier le code pour que l'image soit affichée à l'écran \n",
    "\n",
    "-Le programme devra afficher la largeur et la hauteur de l'image graphiti (vérifier si les valeurs sont correctes avec Paint)"
   ]
  },
  {
   "cell_type": "code",
   "execution_count": null,
   "metadata": {},
   "outputs": [],
   "source": []
  },
  {
   "cell_type": "markdown",
   "metadata": {},
   "source": [
    ">La fonction getpixel (voir activité précédente)\n",
    "\n",
    "Quand une __variable__ qui stocke une image est suivie de __.getpixel((x,y))__ , la fonction getpixel retourne trois nombres qui sont les composantes R,V,B de la couleur du pixel de coordonnées (x,y). Ces trois nombres sont stockées dans trois variables\n",
    "\n",
    ">__Travail à réaliser__\n",
    "\n",
    "-Analyser le code ci-dessous ligne par ligne (lire les commentaires)\n",
    "\n",
    "-Vérifier que les composantes RVB du pixel choisi sont les bonnes avec l'outil pipette du logiciel Paint"
   ]
  },
  {
   "cell_type": "code",
   "execution_count": null,
   "metadata": {},
   "outputs": [],
   "source": [
    "#Pour traiter des images en python il faut importer le module Image de la bibliothèque PIL\n",
    "from PIL import Image\n",
    "#creation d'une variable appelée Monimage \n",
    "#dans laquelle sera stockée l'image nommée Mario.png\n",
    "#stockée dans le même dossier que ce programme\n",
    "Monimage = Image.open(\"Mario.png\")\n",
    "#creation de trois variables R V et B\n",
    "#dans lesquelles seront stockées les composante rouge verte et bleu\n",
    "# du pixel de coordonnées (35,54)\n",
    "R,V,B = Monimage.getpixel((35,54))\n",
    "print(\"Couleur du pixel =\" , R, V, B)"
   ]
  },
  {
   "cell_type": "markdown",
   "metadata": {},
   "source": [
    ">La fonction getpixel (voir activité précédente)\n",
    "\n",
    "Quand une __variable__ qui stocke une image est suivie de __.getpixel((x,y))__ , la fonction getpixel retourne trois nombres qui sont les composantes R,V,B de la couleur du pixel de coordonnées (x,y) de l'image. Ces trois nombres sont stockées dans trois variables\n",
    "\n",
    ">__Travail à réaliser__\n",
    "\n",
    "-Analyser le code ci-dessous ligne par ligne (lire les commentaires)\n",
    "\n",
    "-L'exécuter, observer l'image modifiée, vérifier avec l'explorateur de fichier qu'elle a bien été sauvegardée sur votre pc sous le nom Mario_modif"
   ]
  },
  {
   "cell_type": "code",
   "execution_count": null,
   "metadata": {},
   "outputs": [],
   "source": [
    "from PIL import Image\n",
    "#creation d'une variable Monimage dans laquelle est stockée l'image\n",
    "#nommée Mario.jpg\n",
    "Monimage = Image.open(\"Mario.png\")\n",
    "#creation de deux varaibles dans lesquelles sont stockées\n",
    "#la largeur et la hauteur en pixel de Monimage\n",
    "largeur, hauteur = Monimage.size\n",
    "#Double boucle for qui permet le \n",
    "#Balayage des coordonnées (x,y) de tous les pixels\n",
    "for y in range(hauteur):\n",
    "    for x in range(largeur):\n",
    "        #pour chaque pixel de coordonnées (x,y)\n",
    "        #prélèvement des composantes r, v, b qui sont stockées\n",
    "        #dans les variables du même nom\n",
    "        r, v, b = Monimage.getpixel((x, y))\n",
    "        #modification des valeurs des variables r, v, b\n",
    "        r = r + 30\n",
    "        v = v - 45\n",
    "        b = b + 80\n",
    "        #reaffectation de la nouvelle couleur r, v, b à chaque pixel\n",
    "        Monimage.putpixel((x, y),(r, v, b))\n",
    "#affiche l'image\n",
    "Monimage.show()\n",
    "#enregistre l'image modifiée dans un nouveau fichier\n",
    "Monimage.save(\"Mario_modif.png\", \"PNG\")"
   ]
  },
  {
   "cell_type": "markdown",
   "metadata": {},
   "source": [
    "> Travail à réaliser\n",
    "\n",
    "Copier-coller des bouts de codes pour réaliser un programme qui devra :\n",
    "\n",
    "-Ouvrir l’image graphti.jpg et la stocker dans la variable MonDessin\n",
    "-Afficher l’image graphiti.jpg\n",
    "-Inverser les couleurs de chacun des pixels :\n",
    "-Remplacer la composante rouge par bleu, remplacer la composante verte par rouge, remplacer la composante bleu par vert\n",
    "-Enregistrer l'image modifiée dans graphiti_modif.jpg\n",
    "Ci-dessous le l'image graphiti avant et après traitement par le programme\n",
    "\n",
    "\n",
    "![](TraitementGraphiti.png)\n",
    "\n"
   ]
  },
  {
   "cell_type": "code",
   "execution_count": null,
   "metadata": {},
   "outputs": [],
   "source": []
  }
 ],
 "metadata": {
  "kernelspec": {
   "display_name": "Python 3",
   "language": "python",
   "name": "python3"
  },
  "language_info": {
   "codemirror_mode": {
    "name": "ipython",
    "version": 3
   },
   "file_extension": ".py",
   "mimetype": "text/x-python",
   "name": "python",
   "nbconvert_exporter": "python",
   "pygments_lexer": "ipython3",
   "version": "3.7.1"
  }
 },
 "nbformat": 4,
 "nbformat_minor": 2
}
